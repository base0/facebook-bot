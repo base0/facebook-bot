{
  "nbformat": 4,
  "nbformat_minor": 0,
  "metadata": {
    "colab": {
      "name": "workplace query outsider",
      "provenance": []
    },
    "kernelspec": {
      "name": "python3",
      "display_name": "Python 3"
    }
  },
  "cells": [
    {
      "cell_type": "code",
      "metadata": {
        "id": "14qSqnmnqTsy",
        "colab_type": "code",
        "colab": {}
      },
      "source": [
        "import requests\n",
        "\n",
        "access_token = ''\n",
        "\n",
        "host = 'https://graph.facebook.com/v2.12/'\n",
        "path = '%s&access_token=' + access_token\n",
        "url = host + path\n",
        "\n",
        "a = []\n",
        "\n",
        "cmd = '774280952719501/members?fields=email'\n",
        "result = requests.get(url % cmd).json()\n",
        "a.extend(result['data'])\n",
        "stop = False\n",
        "while not stop:\n",
        "  try:\n",
        "    print(result['paging']['next'])\n",
        "    result = requests.get(result['paging']['next']).json()\n",
        "    a.extend(result['data'])\n",
        "  except:\n",
        "    stop = True\n",
        "\n",
        "a[:5]\n",
        "\n",
        "in_wp = [i['email'] for i in a]\n",
        "in_wp[:5]"
      ],
      "execution_count": 0,
      "outputs": []
    },
    {
      "cell_type": "code",
      "metadata": {
        "id": "S8_FwwreSpOA",
        "colab_type": "code",
        "colab": {}
      },
      "source": [
        "from google.colab import files\n",
        "\n",
        "uploaded = files.upload()\n",
        "\n",
        "for fn in uploaded.keys():\n",
        "  print('User uploaded file \"{name}\" with length {length} bytes'.format(\n",
        "      name=fn, length=len(uploaded[fn])))"
      ],
      "execution_count": 0,
      "outputs": []
    },
    {
      "cell_type": "code",
      "metadata": {
        "id": "grarfaRqx5fU",
        "colab_type": "code",
        "colab": {}
      },
      "source": [
        "import pandas as pd\n",
        "\n",
        "df = pd.read_csv('B07.csv')\n",
        "df.head()"
      ],
      "execution_count": 0,
      "outputs": []
    },
    {
      "cell_type": "code",
      "metadata": {
        "id": "SxS_dDoKS8kn",
        "colab_type": "code",
        "colab": {}
      },
      "source": [
        "in_hr_db = df['GOOGLE_MAIL'].to_list()\n",
        "len(in_hr_db)"
      ],
      "execution_count": 0,
      "outputs": []
    },
    {
      "cell_type": "code",
      "metadata": {
        "id": "wIH4HtHvTGzx",
        "colab_type": "code",
        "colab": {}
      },
      "source": [
        "outsider = set(in_wp) - set(in_hr_db)\n",
        "outsider   # should be an empty set"
      ],
      "execution_count": 0,
      "outputs": []
    },
    {
      "cell_type": "code",
      "metadata": {
        "id": "zWRJMamSUgOg",
        "colab_type": "code",
        "colab": {}
      },
      "source": [
        "new_member = set(in_hr_db) - set(in_wp)\n",
        "new_member"
      ],
      "execution_count": 0,
      "outputs": []
    },
    {
      "cell_type": "code",
      "metadata": {
        "id": "9nMCX3dOU5HX",
        "colab_type": "code",
        "colab": {}
      },
      "source": [
        ""
      ],
      "execution_count": 0,
      "outputs": []
    }
  ]
}